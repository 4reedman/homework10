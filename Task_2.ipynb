{
 "cells": [
  {
   "cell_type": "markdown",
   "metadata": {},
   "source": [
    "Create a file with some content. As example, you can take this one:\n",
    "\n",
    "“Lorem ipsum dolor sit amet, consectetur adipiscing elit, sed do eiusmod tempor incididunt ut labore et dolore magna aliqua. Ut enim ad minim veniam, quis nostrud exercitation ullamco laboris nisi ut aliquip ex ea commodo consequat. Duis aute irure dolor in reprehenderit in voluptate velit esse cillum dolore eu fugiat nulla pariatur. Excepteur sint occaecat cupidatat non proident, sunt in culpa qui officia deserunt mollit anim id est laborum”.\n",
    "\n",
    "Create a second file and copy the content of the first file to the second file in upper case."
   ]
  },
  {
   "cell_type": "code",
   "execution_count": 10,
   "metadata": {},
   "outputs": [],
   "source": [
    "string = 'Lorem ipsum dolor sit amet, consectetur adipiscing elit, sed do eiusmod tempor incididunt ut \\\n",
    "labore et dolore magna aliqua. Ut enim ad minim veniam, quis nostrud exercitation ullamco laboris nisi ut aliquip ex ea commodo consequat. \\\n",
    "Duis aute irure dolor in reprehenderit in voluptate velit esse cillum dolore eu fugiat nulla pariatur. Excepteur sint occaecat cupidatat \\\n",
    "non proident, sunt in culpa qui officia deserunt mollit anim id est laborum'\n",
    "\n",
    "def create_txt(text):\n",
    "    with open('content.txt', 'w') as file:\n",
    "        file.write(text)\n",
    "    return 'content.txt'\n",
    "\n",
    "def text_in_upper(file):\n",
    "     with open(file, 'r') as file_1:\n",
    "         with open('content_in_upper.txt', 'w') as file_2:\n",
    "             for line in file_1:\n",
    "                 file_2.write(line.upper())\n",
    "    \n",
    "\n",
    "        \n",
    "\n",
    "text_in_upper(create_txt(string))\n"
   ]
  }
 ],
 "metadata": {
  "kernelspec": {
   "display_name": "Python 3",
   "language": "python",
   "name": "python3"
  },
  "language_info": {
   "name": "python",
   "version": "3.10.5"
  },
  "orig_nbformat": 4
 },
 "nbformat": 4,
 "nbformat_minor": 2
}
