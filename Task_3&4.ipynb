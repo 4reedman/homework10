{
 "cells": [
  {
   "cell_type": "markdown",
   "metadata": {},
   "source": [
    "Write a program that will simulate user scores in a game. Create a list with 5 players’ names after that simulate 100 rounds for each player. As a result of the game create a list with the player's name and score (0-1000 range). And save it to a CSV file. The file should look like this:\n",
    "\n",
    "Player name, Score\n",
    "Josh, 56\n",
    "Luke, 784\n",
    "Kate, 90\n",
    "Mark, 125\n",
    "Mary, 877\n",
    "Josh, 345"
   ]
  },
  {
   "cell_type": "code",
   "execution_count": 5,
   "metadata": {},
   "outputs": [],
   "source": [
    "import csv\n",
    "from random import randint\n",
    "\n",
    "players = ['Josh', 'Luke', 'Kate', 'Mark', 'Mary']\n",
    "\n",
    "def generate_scores(players_name):\n",
    "    players_scores = []\n",
    "    for round in range(100):\n",
    "        for name in players:\n",
    "            players_scores.append([name,randint(0, 1000)])\n",
    "    return players_scores\n",
    "\n",
    "def create_csv(players_list: list):\n",
    "    with open('scores.csv', 'w') as file:\n",
    "        writer = csv.writer(file)\n",
    "        writer.writerow(['Player name', 'Score'])\n",
    "        writer.writerows(players_list)\n",
    "    \n",
    "        \n",
    "\n",
    "create_csv(generate_scores(players))"
   ]
  },
  {
   "cell_type": "markdown",
   "metadata": {},
   "source": [
    "Write a script that reads the data from previous CSV file and creates a new file called high_scores.csv where each row contains the player name and their highest score. Final score should sorted by descending of highest score\n",
    "\n",
    "The output CSV file should look like this:\n",
    "\n",
    "    \n",
    "    Player name, Highest score\n",
    "    Kate, 907\n",
    "    Mary, 897\n",
    "    Luke, 784\n",
    "    Mark, 725\n",
    "    Josh, 345"
   ]
  },
  {
   "cell_type": "code",
   "execution_count": 87,
   "metadata": {},
   "outputs": [
    {
     "name": "stdout",
     "output_type": "stream",
     "text": [
      "None\n"
     ]
    }
   ],
   "source": [
    "def high_scores(file_name):\n",
    "    with open(file_name, 'r') as file1, open('high_scores.csv', 'w') as file2:\n",
    "        reader = csv.reader(file1)\n",
    "        writer = csv.writer(file2)\n",
    "        line_count = 0\n",
    "        playesr_high_scores = {}\n",
    "        for i_name, i_score in reader:\n",
    "            if line_count == 0:\n",
    "                line_count += 1\n",
    "                continue\n",
    "            else:\n",
    "                if i_name not in playesr_high_scores:\n",
    "                    playesr_high_scores[i_name] = int(i_score)\n",
    "                    line_count += 1\n",
    "                else:\n",
    "                    if playesr_high_scores[i_name] < int(i_score):\n",
    "                        playesr_high_scores[i_name] = int(i_score)\n",
    "                        line_count += 1\n",
    "        playesr_high_scores_list = [[name, int(score)] for name, score in playesr_high_scores.items()]\n",
    "        playesr_high_scores_list.sort(reverse= True, key=lambda scores: scores[1])\n",
    "        writer.writerow(['Player name', 'Score'])\n",
    "        writer.writerows(playesr_high_scores_list)\n",
    "    \n",
    "                \n",
    "print(high_scores('scores.csv'))\n"
   ]
  },
  {
   "cell_type": "markdown",
   "metadata": {},
   "source": [
    "\n"
   ]
  }
 ],
 "metadata": {
  "kernelspec": {
   "display_name": "Python 3",
   "language": "python",
   "name": "python3"
  },
  "language_info": {
   "codemirror_mode": {
    "name": "ipython",
    "version": 3
   },
   "file_extension": ".py",
   "mimetype": "text/x-python",
   "name": "python",
   "nbconvert_exporter": "python",
   "pygments_lexer": "ipython3",
   "version": "3.10.5"
  },
  "orig_nbformat": 4
 },
 "nbformat": 4,
 "nbformat_minor": 2
}
