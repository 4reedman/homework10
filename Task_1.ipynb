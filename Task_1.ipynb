{
 "cells": [
  {
   "cell_type": "markdown",
   "metadata": {},
   "source": [
    "Write a program that generates 26 text files named A.txt, B.txt, and so on up to Z.txt. To each file append a random number between 1 and 100. Create a summary file (summary.txt) that contains the name of the file and the number in that file: A.txt: 67 B.txt: 12...Z.txt: 98"
   ]
  },
  {
   "cell_type": "code",
   "execution_count": 9,
   "metadata": {},
   "outputs": [],
   "source": [
    "from random import randint\n",
    "\n",
    "def generate_txt_A_to_Z():\n",
    "    alphabet = ('A', 'B', 'C', 'D', 'E', 'F', 'G', 'H', 'I', 'J', 'K', 'L', 'M', 'N', 'O', 'P', 'Q', 'R', 'S', 'T', 'U', 'V', 'W', 'X', 'Y', 'Z')\n",
    "    txt_dict = {}\n",
    "    for i in range(len(alphabet)):\n",
    "        with open(f'txt_files/{alphabet[i]}.txt', 'w') as file:\n",
    "            random_num = randint(1, 100)\n",
    "            file.write(str(random_num))\n",
    "            txt_dict[alphabet[i]] = random_num\n",
    "    \n",
    "    with open('txt_files/summary_txt', 'a') as file:\n",
    "        for key, value in txt_dict.items():\n",
    "            file.write(f\"{key}.txt: {value} \\n\")\n",
    "\n",
    "\n",
    "\n",
    "\n",
    "generate_txt_A_to_Z()\n",
    "\n"
   ]
  }
 ],
 "metadata": {
  "kernelspec": {
   "display_name": "Python 3",
   "language": "python",
   "name": "python3"
  },
  "language_info": {
   "codemirror_mode": {
    "name": "ipython",
    "version": 3
   },
   "file_extension": ".py",
   "mimetype": "text/x-python",
   "name": "python",
   "nbconvert_exporter": "python",
   "pygments_lexer": "ipython3",
   "version": "3.10.5"
  },
  "orig_nbformat": 4
 },
 "nbformat": 4,
 "nbformat_minor": 2
}
